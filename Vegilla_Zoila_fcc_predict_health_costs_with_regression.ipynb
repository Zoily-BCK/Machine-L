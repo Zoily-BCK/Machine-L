{
  "cells": [
    {
      "cell_type": "markdown",
      "metadata": {
        "id": "view-in-github",
        "colab_type": "text"
      },
      "source": [
        "<a href=\"https://colab.research.google.com/github/Zoily-BCK/Machine-L/blob/main/Vegilla_Zoila_fcc_predict_health_costs_with_regression.ipynb\" target=\"_parent\"><img src=\"https://colab.research.google.com/assets/colab-badge.svg\" alt=\"Open In Colab\"/></a>"
      ]
    },
    {
      "cell_type": "code",
      "execution_count": null,
      "metadata": {
        "id": "1rRo8oNqZ-Rj"
      },
      "outputs": [],
      "source": [
        "# Import libraries. You may or may not use all of these.\n",
        "!pip install -q git+https://github.com/tensorflow/docs\n",
        "import matplotlib.pyplot as plt\n",
        "import numpy as np\n",
        "import pandas as pd\n",
        "\n",
        "try:\n",
        "  # %tensorflow_version only exists in Colab.\n",
        "  %tensorflow_version 2.x\n",
        "except Exception:\n",
        "  pass\n",
        "import tensorflow as tf\n",
        "\n",
        "from tensorflow import keras\n",
        "from tensorflow.keras import layers\n",
        "\n",
        "import tensorflow_docs as tfdocs\n",
        "import tensorflow_docs.plots\n",
        "import tensorflow_docs.modeling"
      ]
    },
    {
      "cell_type": "code",
      "execution_count": null,
      "metadata": {
        "id": "CiX2FI4gZtTt"
      },
      "outputs": [],
      "source": [
        "# Import data\n",
        "!wget https://cdn.freecodecamp.org/project-data/health-costs/insurance.csv\n",
        "dataset = pd.read_csv('insurance.csv')\n",
        "dataset.tail()"
      ]
    },
    {
      "cell_type": "code",
      "execution_count": null,
      "metadata": {
        "id": "LcopvQh3X-kX"
      },
      "outputs": [],
      "source": [
        "df.isnull().sum()\n",
        "df.dtypes\n",
        "df.region.value_counts()"
      ]
    },
    {
      "cell_type": "code",
      "source": [
        "df = df.join(pd.get_dummies(df.region, prefix='region')).drop('region', axis=1)\n",
        "df.head()\n",
        "df.sex.value_counts()"
      ],
      "metadata": {
        "id": "klL5F8Q6vRZk"
      },
      "execution_count": null,
      "outputs": []
    },
    {
      "cell_type": "code",
      "source": [
        "labels = {}\n",
        "\n",
        "values        = df.sex.astype('category')\n",
        "labels['sex'] = values.cat.categories\n",
        "df['sex']     = values.cat.codes"
      ],
      "metadata": {
        "id": "SZaXP9wbvRkz"
      },
      "execution_count": null,
      "outputs": []
    },
    {
      "cell_type": "code",
      "source": [
        "df.head()\n",
        "df.smoker.value_counts()"
      ],
      "metadata": {
        "id": "5826z6S4vRnL"
      },
      "execution_count": null,
      "outputs": []
    },
    {
      "cell_type": "code",
      "source": [
        "values           = df.smoker.astype('category')\n",
        "labels['smoker'] = values.cat.categories\n",
        "df['smoker']     = values.cat.codes\n",
        "\n",
        "df.head()"
      ],
      "metadata": {
        "id": "_KTTgvGovRqC"
      },
      "execution_count": null,
      "outputs": []
    },
    {
      "cell_type": "code",
      "source": [
        "labels\n",
        "sns.heatmap(df.corr(), annot=True, fmt='.2f')\n",
        "df.drop(['region_northeast', 'region_northwest', 'region_southeast', 'region_southwest'], axis=1, inplace=True)\n",
        "df.drop(['sex', 'children'], axis=1, inplace=True)"
      ],
      "metadata": {
        "id": "NQFC3gXSvRsz"
      },
      "execution_count": null,
      "outputs": []
    },
    {
      "cell_type": "code",
      "source": [
        "sns.pairplot(df)"
      ],
      "metadata": {
        "id": "JpN5ulvrvRvh"
      },
      "execution_count": null,
      "outputs": []
    },
    {
      "cell_type": "code",
      "source": [
        "df = df.sample(frac=1)"
      ],
      "metadata": {
        "id": "TVlIFmEIvRyL"
      },
      "execution_count": null,
      "outputs": []
    },
    {
      "cell_type": "code",
      "source": [
        "size          = int(len(df) * .2)\n",
        "train_dataset = df[:-size]\n",
        "test_dataset  = df[-size:]\n",
        "\n",
        "print(len(df), len(train_dataset), len(test_dataset))"
      ],
      "metadata": {
        "id": "Np6NBV8wvR00"
      },
      "execution_count": null,
      "outputs": []
    },
    {
      "cell_type": "code",
      "source": [
        "train_labels  = train_dataset['expenses']\n",
        "train_dataset = train_dataset.drop('expenses', axis=1)"
      ],
      "metadata": {
        "id": "zo0snMqJvR3Z"
      },
      "execution_count": null,
      "outputs": []
    },
    {
      "cell_type": "code",
      "source": [
        "model = tf.keras.models.Sequential([\n",
        "    tf.keras.layers.Input(shape=(len(train_dataset.keys()),)),\n",
        "    tf.keras.layers.BatchNormalization(),\n",
        "    tf.keras.layers.Dense(64, activation='relu'),\n",
        "    tf.keras.layers.Dense(64, activation='relu'),\n",
        "    tf.keras.layers.Dense(1)\n",
        "])\n",
        "model.compile(\n",
        "    optimizer= tf.keras.optimizers.RMSprop(0.05),\n",
        "    loss='mse',\n",
        "    metrics=['mae', 'mse']\n",
        ")\n",
        "model.summary()"
      ],
      "metadata": {
        "id": "ExFVbe4evR5-"
      },
      "execution_count": null,
      "outputs": []
    },
    {
      "cell_type": "code",
      "source": [
        "class EpochDots(keras.callbacks.Callback):  # Inherits from keras.callbacks.Callback\n",
        "  def on_epoch_end(self, epoch, logs):\n",
        "    if epoch % 100 == 0:\n",
        "      print()\n",
        "      print('Epoch: {:d}, '.format(epoch), end='')\n",
        "      for name, value in sorted(logs.items()):\n",
        "        print('{}:{:0.4f}'.format(name, value), end=', ')\n",
        "      print()\n",
        "\n",
        "    print('.', end='')"
      ],
      "metadata": {
        "id": "9lete5ZAvR81"
      },
      "execution_count": null,
      "outputs": []
    },
    {
      "cell_type": "code",
      "source": [
        "r = model.fit(train_dataset, train_labels, epochs=500,\n",
        "              verbose=0, callbacks=[EpochDots()])"
      ],
      "metadata": {
        "id": "KkFcKckvvhdp"
      },
      "execution_count": null,
      "outputs": []
    },
    {
      "cell_type": "code",
      "source": [
        "res = model.evaluate(test_dataset, test_labels, verbose=2)\n",
        "print(res)"
      ],
      "metadata": {
        "id": "5rUsvwwHvh-D"
      },
      "execution_count": null,
      "outputs": []
    },
    {
      "cell_type": "code",
      "execution_count": null,
      "metadata": {
        "id": "Xe7RXH3N3CWU"
      },
      "outputs": [],
      "source": [
        "# RUN THIS CELL TO TEST YOUR MODEL. DO NOT MODIFY CONTENTS.\n",
        "# Test model by checking how well the model generalizes using the test set.\n",
        "loss, mae, mse = model.evaluate(test_dataset, test_labels, verbose=2)\n",
        "\n",
        "print(\"Testing set Mean Abs Error: {:5.2f} expenses\".format(mae))\n",
        "\n",
        "if mae < 3500:\n",
        "  print(\"You passed the challenge. Great job!\")\n",
        "else:\n",
        "  print(\"The Mean Abs Error must be less than 3500. Keep trying.\")\n",
        "\n",
        "# Plot predictions.\n",
        "test_predictions = model.predict(test_dataset).flatten()\n",
        "\n",
        "a = plt.axes(aspect='equal')\n",
        "plt.scatter(test_labels, test_predictions)\n",
        "plt.xlabel('True values (expenses)')\n",
        "plt.ylabel('Predictions (expenses)')\n",
        "lims = [0, 50000]\n",
        "plt.xlim(lims)\n",
        "plt.ylim(lims)\n",
        "_ = plt.plot(lims,lims)\n"
      ]
    }
  ],
  "metadata": {
    "colab": {
      "name": "Vegilla_Zoila_fcc_predict_health_costs_with_regression.ipynb",
      "provenance": [],
      "include_colab_link": true
    },
    "kernelspec": {
      "display_name": "Python 3",
      "name": "python3"
    }
  },
  "nbformat": 4,
  "nbformat_minor": 0
}